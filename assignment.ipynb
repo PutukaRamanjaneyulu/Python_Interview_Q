{
  "nbformat": 4,
  "nbformat_minor": 0,
  "metadata": {
    "colab": {
      "provenance": []
    },
    "kernelspec": {
      "name": "python3",
      "display_name": "Python 3"
    },
    "language_info": {
      "name": "python"
    }
  },
  "cells": [
    {
      "cell_type": "markdown",
      "source": [
        "# **Interview Importent Questions (Basic python)**\n",
        "\n",
        "\n",
        "1.   `Find the Given number is a perfect number or not`\n",
        "\n",
        "2.   `Find the  Factorial Given number  `\n",
        "3.  `Find the Given number is a palindrome number or not`\n",
        "4. `Find the Given number is a amstrong number or not`\n",
        "5. `Find the Given number is a strong number or not`\n",
        "6. `Find the Fibonacci Series of the given number`\n",
        "7. `The string we can find the ascii and even ascii values sum and sum value print`\n",
        "8. `we can the number and print the number count values and skipping the value print The variable in single line `\n",
        "9. `we can give the string and count of the alphabets and print(key value pair) `\n",
        "\n"
      ],
      "metadata": {
        "id": "MCmYRc8wnQ1Q"
      }
    },
    {
      "cell_type": "code",
      "source": [
        "# Question : 1\n",
        "# we can take the One number sum of Divisible  of number equal to the number\n",
        "\n",
        "n=int(input(\"Enter a number here : \"))\n",
        "c=0\n",
        "for i in range(1,n):\n",
        "  if n %i == 0:\n",
        "    c=c+i\n",
        "if n == c:\n",
        "  print(f'{n} : is a perfect number')\n",
        "else:\n",
        "  print(f'{n} : is not perfect number')\n",
        "\n"
      ],
      "metadata": {
        "colab": {
          "base_uri": "https://localhost:8080/"
        },
        "id": "EDIaKr3SopGq",
        "outputId": "82dba96d-4ce0-4bdc-ee5b-616444d633e8"
      },
      "execution_count": 7,
      "outputs": [
        {
          "output_type": "stream",
          "name": "stdout",
          "text": [
            "Enter a number here : 15\n",
            "15 : is not perfect number\n"
          ]
        }
      ]
    },
    {
      "cell_type": "code",
      "execution_count": 8,
      "metadata": {
        "colab": {
          "base_uri": "https://localhost:8080/"
        },
        "id": "qv-MUtpzmafb",
        "outputId": "847645ed-cb7c-4eaa-f7d1-c4f246cec27b"
      },
      "outputs": [
        {
          "output_type": "stream",
          "name": "stdout",
          "text": [
            "Enter a number here :5\n",
            "The factorial of the given number : 120\n"
          ]
        }
      ],
      "source": [
        "#Question 2\n",
        "# Factorial of the is Ex:5*4*3*2*1\n",
        "\n",
        "n=int(input(\"Enter a number here :\"))\n",
        "c=1\n",
        "for i in range(1,n+1):\n",
        "  c=c*i\n",
        "print(\"The factorial of the given number :\",c)"
      ]
    },
    {
      "cell_type": "code",
      "source": [
        "# Question : 3\n",
        "# we can take the One number and reverse the  number equal to the  original number\n",
        "\n",
        "n=int(input(\"Enter a number here : \"))\n",
        "temp=n\n",
        "c=0\n",
        "while n >0:\n",
        "  res=n%10\n",
        "  c=(c*10)+res\n",
        "  n=n//10\n",
        "\n",
        "if temp == c:\n",
        "  print(f'{temp} : is a palindrome number')\n",
        "else:\n",
        "  print(f'{temp} : is not palindrome number')\n",
        "\n"
      ],
      "metadata": {
        "colab": {
          "base_uri": "https://localhost:8080/"
        },
        "id": "cR3hgAtJqi7x",
        "outputId": "e1b55c9c-2fc9-48d2-f1a4-9c12c9ddaa17"
      },
      "execution_count": 10,
      "outputs": [
        {
          "output_type": "stream",
          "name": "stdout",
          "text": [
            "Enter a number here : 321\n",
            "321 : is not palindrome number\n"
          ]
        }
      ]
    },
    {
      "cell_type": "code",
      "source": [
        "# Question : 4\n",
        "# we can take the One number and cube the digits and sum of the digits  equal to the  original number\n",
        "\n",
        "n=int(input(\"Enter a number here : \"))\n",
        "temp=n\n",
        "c=0\n",
        "while n >0:\n",
        "  res=n%10\n",
        "  c=c+(res*res*res)\n",
        "  n=n//10\n",
        "\n",
        "if temp == c:\n",
        "  print(f'{temp} : is a amstrong  number')\n",
        "else:\n",
        "  print(f'{temp} : is not amstrong  number')\n"
      ],
      "metadata": {
        "colab": {
          "base_uri": "https://localhost:8080/"
        },
        "id": "YdagrY1sqi4Q",
        "outputId": "e6c1e177-3d23-4e50-ecf8-af8050668974"
      },
      "execution_count": 14,
      "outputs": [
        {
          "output_type": "stream",
          "name": "stdout",
          "text": [
            "Enter a number here : 153\n",
            "153 : is a amstrong  number\n"
          ]
        }
      ]
    },
    {
      "cell_type": "code",
      "source": [
        "# Question : 5 (Method 1)\n",
        "# If we take number the factorial of the individuals digits and sum of the Factorial is eual to the number\n",
        "\n",
        "n=int(input(\"Enter a number here : \"))\n",
        "temp=n\n",
        "c=0\n",
        "while n >0:\n",
        "  res=n%10\n",
        "  f=1\n",
        "  for i in range(1,res+1):\n",
        "    f=f*i\n",
        "\n",
        "  c=c+f\n",
        "  n=n//10\n",
        "\n",
        "if temp == c:\n",
        "  print(f'{temp} : is a strong  number')\n",
        "else:\n",
        "  print(f'{temp} : is not strong  number')\n"
      ],
      "metadata": {
        "colab": {
          "base_uri": "https://localhost:8080/"
        },
        "id": "8xu9oSXsqi14",
        "outputId": "fb09807a-f9cb-4452-da97-5cd99eb527ea"
      },
      "execution_count": 18,
      "outputs": [
        {
          "output_type": "stream",
          "name": "stdout",
          "text": [
            "Enter a number here : 145\n",
            "145 : is a strong  number\n"
          ]
        }
      ]
    },
    {
      "cell_type": "code",
      "source": [
        "# Question : 5 (Method 2)\n",
        "# If we take number the factorial of the individuals digits and sum of the Factorial is eual to the number\n",
        "import math\n",
        "n=int(input(\"Enter a number here : \"))\n",
        "temp=n\n",
        "c=0\n",
        "while n >0:\n",
        "  res=n%10\n",
        "  f=math.factorial(res)\n",
        "\n",
        "  c=c+f\n",
        "  n=n//10\n",
        "\n",
        "if temp == c:\n",
        "  print(f'{temp} : is a strong  number')\n",
        "else:\n",
        "  print(f'{temp} : is not strong  number')\n"
      ],
      "metadata": {
        "colab": {
          "base_uri": "https://localhost:8080/"
        },
        "id": "xOjl_ZLIqi0A",
        "outputId": "7f697253-42be-4a24-e1dc-6d2dd3bdd027"
      },
      "execution_count": 19,
      "outputs": [
        {
          "output_type": "stream",
          "name": "stdout",
          "text": [
            "Enter a number here : 145\n",
            "145 : is a strong  number\n"
          ]
        }
      ]
    },
    {
      "cell_type": "code",
      "source": [
        "# Question : 6\n",
        "# Fibonacci series means we need to add the present number and to privous number these series is called the fibonacci series\n",
        "\n",
        "n=int(input(\"Enter a number here : \"))\n",
        "a=0\n",
        "b=1\n",
        "print(a)\n",
        "print(b)\n",
        "\n",
        "for i in range(n-2):\n",
        "  c=a+b\n",
        "  print(c)\n",
        "  a=b\n",
        "  b=c"
      ],
      "metadata": {
        "colab": {
          "base_uri": "https://localhost:8080/"
        },
        "id": "l5Mv220wqixI",
        "outputId": "5b42b8ac-8c52-4fa6-99a6-302bc3bd45e3"
      },
      "execution_count": 20,
      "outputs": [
        {
          "output_type": "stream",
          "name": "stdout",
          "text": [
            "Enter a number here : 5\n",
            "0\n",
            "1\n",
            "1\n",
            "2\n",
            "3\n"
          ]
        }
      ]
    },
    {
      "cell_type": "code",
      "source": [
        "#Question: 7 (method : 1) With using Built in functions\n",
        "#a=\"data scince\"\n",
        "a=\"data scince\"\n",
        "b=0\n",
        "for i in a:\n",
        "  if i.isalpha():\n",
        "\n",
        "    c=ord(i)\n",
        "\n",
        "    if c%2==0:\n",
        "        b=b+int(c)\n",
        "print(\"The sum of the ascii even  values : \",b)"
      ],
      "metadata": {
        "colab": {
          "base_uri": "https://localhost:8080/"
        },
        "id": "jbEQfgBSmq6C",
        "outputId": "360b9be7-6171-4531-ae5d-8b6c520e81a8"
      },
      "execution_count": null,
      "outputs": [
        {
          "output_type": "stream",
          "name": "stdout",
          "text": [
            "The sum of the ascii even  values :  326\n"
          ]
        }
      ]
    },
    {
      "cell_type": "code",
      "source": [
        "#Question: 7 (method : 2) : without Using Built in Functions\n",
        "#a=\"data scince\"\n",
        "a=\"data scince\"\n",
        "b=0\n",
        "f='abcdefghijklmnopqrstuvwxyz'\n",
        "for i in a:\n",
        "  if i in f:\n",
        "    if ord(i)%2==0:\n",
        "      b=b+ord(i)\n",
        "print(\"The sum of the ascii even  values : \",b)\n"
      ],
      "metadata": {
        "colab": {
          "base_uri": "https://localhost:8080/"
        },
        "id": "i-2dFYgGphga",
        "outputId": "9ebb3821-5039-4f77-e46c-403c74835880"
      },
      "execution_count": 22,
      "outputs": [
        {
          "output_type": "stream",
          "name": "stdout",
          "text": [
            "The sum of the ascii even  values :  326\n"
          ]
        }
      ]
    },
    {
      "cell_type": "code",
      "source": [
        "# Question : 8 (Method 1)\n",
        "# we can give the count of numbers and skipping value of the number and print signline of the output\n",
        "n=5\n",
        "r=2\n",
        "for i in range(0,10,2):\n",
        "  print(i,end=\" \")\n"
      ],
      "metadata": {
        "colab": {
          "base_uri": "https://localhost:8080/"
        },
        "id": "RJ7iwRFGpwvG",
        "outputId": "bc28a9ce-dd0c-46b1-c0b9-6eede63404c4"
      },
      "execution_count": null,
      "outputs": [
        {
          "output_type": "stream",
          "name": "stdout",
          "text": [
            "0 2 4 6 8 "
          ]
        }
      ]
    },
    {
      "cell_type": "code",
      "source": [
        "# Question : 8 (Method 2)\n",
        "# we can give the count of numbers and skipping value of the number and print signline of the output\n",
        "n=int(input(\"Enter a number here :\"))\n",
        "r=int(input(\"Enter a number here :\"))\n",
        "for i in range(n*r):\n",
        "  if i%2==0:\n",
        "    print(i,end=\" \")"
      ],
      "metadata": {
        "colab": {
          "base_uri": "https://localhost:8080/"
        },
        "id": "sToQFOGbtuPj",
        "outputId": "b8b380c2-3ab8-4b31-c339-8447cc0c7633"
      },
      "execution_count": null,
      "outputs": [
        {
          "output_type": "stream",
          "name": "stdout",
          "text": [
            "Enter a number here :5\n",
            "Enter a number here :2\n",
            "0 2 4 6 8 "
          ]
        }
      ]
    },
    {
      "cell_type": "code",
      "source": [
        "# Question : 8 (Method 3)\n",
        "# we can give the count of numbers and skipping value of the number and print signline of the output\n",
        "n=int(input(\"enter a number here : \"))\n",
        "r=2\n",
        "for i in range(n):\n",
        "  print(r*i,end=\" \")"
      ],
      "metadata": {
        "colab": {
          "base_uri": "https://localhost:8080/"
        },
        "id": "rSGFsGS_upBo",
        "outputId": "f7354811-7724-42ea-cf11-a023fc46f252"
      },
      "execution_count": null,
      "outputs": [
        {
          "output_type": "stream",
          "name": "stdout",
          "text": [
            "enter a number here : 10\n",
            "0 2 4 6 8 10 12 14 16 18 "
          ]
        }
      ]
    },
    {
      "cell_type": "code",
      "source": [
        "# Question :9\n",
        "# we give the string of the variaable and count the alphats how many times in string and print the (key value pair)\n",
        "a='Ramanjaneyulu'\n",
        "c={}\n",
        "\n",
        "for i in a:\n",
        "  if i not in c:\n",
        "    c[i]=1\n",
        "  else:\n",
        "    c[i]=c[i]+1\n",
        "print(c)\n"
      ],
      "metadata": {
        "colab": {
          "base_uri": "https://localhost:8080/"
        },
        "id": "xuPHq4wXwFw8",
        "outputId": "75aedfc9-ca39-4123-df59-af2e94c2e986"
      },
      "execution_count": null,
      "outputs": [
        {
          "output_type": "stream",
          "name": "stdout",
          "text": [
            "{'R': 1, 'a': 3, 'm': 1, 'n': 2, 'j': 1, 'e': 1, 'y': 1, 'u': 2, 'l': 1}\n"
          ]
        }
      ]
    },
    {
      "cell_type": "code",
      "source": [],
      "metadata": {
        "id": "KWu4YiY_w9LN"
      },
      "execution_count": null,
      "outputs": []
    }
  ]
}